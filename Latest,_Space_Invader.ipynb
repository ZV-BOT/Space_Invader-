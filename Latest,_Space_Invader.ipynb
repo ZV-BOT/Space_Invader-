{
  "cells": [
    {
      "cell_type": "markdown",
      "metadata": {
        "id": "view-in-github",
        "colab_type": "text"
      },
      "source": [
        "<a href=\"https://colab.research.google.com/github/ZV-BOT/Space_Invader-/blob/main/Latest%2C_Space_Invader.ipynb\" target=\"_parent\"><img src=\"https://colab.research.google.com/assets/colab-badge.svg\" alt=\"Open In Colab\"/></a>"
      ]
    },
    {
      "cell_type": "code",
      "execution_count": null,
      "metadata": {
        "id": "5kGK-ZDxeNRp"
      },
      "outputs": [],
      "source": [
        "%pip install pygame\n",
        "# !pip install tkinter\n",
        "# pygame.mixer.init()"
      ]
    },
    {
      "cell_type": "code",
      "execution_count": 4,
      "metadata": {
        "colab": {
          "base_uri": "https://localhost:8080/"
        },
        "id": "sB18CeLwfQwE",
        "outputId": "2d894727-4005-4f7b-9f91-0a45dea52cf4"
      },
      "outputs": [
        {
          "output_type": "stream",
          "name": "stderr",
          "text": [
            "<>:58: SyntaxWarning: 'bool' object is not callable; perhaps you missed a comma?\n",
            "<>:58: SyntaxWarning: 'bool' object is not callable; perhaps you missed a comma?\n",
            "<ipython-input-4-2e5dd1eef87a>:58: SyntaxWarning: 'bool' object is not callable; perhaps you missed a comma?\n",
            "  over_text = font.render(\"GAME OVER\",True (255, 255, 255))\n"
          ]
        }
      ],
      "source": [
        "import pygame\n",
        "import random\n",
        "import math\n",
        "from pygame import mixer\n",
        "\n",
        "\n",
        "# initialize the pygame\n",
        "pygame.init()\n",
        "\n",
        "# background Sound\n",
        "mixer.music.load(\"background.wav\")\n",
        "mixer.music.play(-1)\n",
        "\n",
        "# create the screen\n",
        "screen = pygame.display.set_mode ( (300, 600) )\n",
        "\n",
        "# Title and Icon\n",
        "pygame.display.set_caption(\"Space Invaders\")\n",
        "icon = pygame.image.load(\"warspaceship.png\")\n",
        "pygame.display.set_icon(icon)\n",
        "\n",
        "# Player\n",
        "playerImg = pygame.image.load(\"Player2.png\")\n",
        "Player2X = 370\n",
        "Player2Y = 480\n",
        "Player2X_change = 0\n",
        "\n",
        "# Enemy setup\n",
        "EnemyImg = []\n",
        "EnemyX = []\n",
        "EnemyY = []\n",
        "EnemyX_change = []\n",
        "EnemyY_change = []\n",
        "Num_of_Enemies = 6\n",
        "\n",
        "for i in range (Num_of_Enemies):\n",
        "  EnemyImg.append (pygame.image.load(\"Enemy.png\"))\n",
        "  EnemyX.append (random.randint (0, 800)) # here we use the function (random with the values (0,800) to mean that the enemy must randomly move from ONE End to Other in the X cordenate)\n",
        "  EnemyY.append (random.randint (50, 150))\n",
        "  EnemyX_change.append (0.3)\n",
        "  EnemyY_change.append (40)\n",
        "\n",
        "# Score definition\n",
        "Score_value = 0\n",
        "font  = pygame.font.Font(\"freesansbold.ttf\",32)\n",
        "\n",
        "textX = 10\n",
        "textY = 10\n",
        "\n",
        "# GAME OVER TEXT\n",
        "over_font = pygame.font.Font(\"freesansbold.ttf\",64)\n",
        "\n",
        "def show_score(x,y):\n",
        "  score = font.render(\"Score :\" + str(Score_value), true, (255, 255, 255))\n",
        "  screen.blit(score,(x, y))\n",
        "\n",
        "def Game_Over_Text(x,y):\n",
        "  over_text = font.render(\"GAME OVER\",True (255, 255, 255))\n",
        "  screen.blit(over_text,(200,500))\n",
        "\n",
        "\n",
        "def player(x,y):\n",
        "  screen.blit(playerImg,(Player2X, Player2Y))\n",
        "\n",
        "def Enemy(x,y, i):\n",
        "  screen.blit(EnemyImg,(EnemyX, EnemyY))\n",
        "\n",
        "def fire_bullet (x,y):\n",
        "  global Bullet_state\n",
        "  Bullet_state = \"fire\"\n",
        "  screen.blit(BulletImg,(x + 16, y + 10))   # the values (x + 16) is to ensure that when the bullet is fired it appears right in the center of the ship and not from the sided.\n",
        "                                            # and the values (y + 10) it ensures that the bullet will come right from the top of the ship nose.\n",
        "def isCollision(EnemyX, EnemyY, BulletX, BulletY):\n",
        "  distance = math.sqrt((math.pow(EnemyX-BulletX,2)) + (math.pow(EnemyY-BulletY,2)))\n",
        "  if distance < 27:\n",
        "    return True\n",
        "  else:\n",
        "    return False"
      ]
    },
    {
      "cell_type": "code",
      "execution_count": null,
      "metadata": {
        "colab": {
          "base_uri": "https://localhost:8080/"
        },
        "id": "VlX-H2bUnjaF",
        "outputId": "04ab03d1-c24e-4d7d-e288-8e7711d59a4a"
      },
      "outputs": [
        {
          "metadata": {
            "tags": null
          },
          "name": "stderr",
          "output_type": "stream",
          "text": [
            "<>:26: SyntaxWarning: \"is\" with a literal. Did you mean \"==\"?\n",
            "<>:85: SyntaxWarning: \"is\" with a literal. Did you mean \"==\"?\n",
            "<>:26: SyntaxWarning: \"is\" with a literal. Did you mean \"==\"?\n",
            "<>:85: SyntaxWarning: \"is\" with a literal. Did you mean \"==\"?\n",
            "<ipython-input-5-2cfb4ba62c3c>:26: SyntaxWarning: \"is\" with a literal. Did you mean \"==\"?\n",
            "  if Bullet_state is \"ready\":\n"
          ]
        }
      ],
      "source": [
        "# game looping\n",
        "running = True\n",
        "while running:\n",
        "\n",
        "    # RGB = RED, green, bLUE\n",
        "  screen.fill((255, 0, 0))\n",
        "  Player2X += 0.2  # when Player2X is += is to move RIGHT| When it is -=, is to move the spaceship LEFT\n",
        "  # Player2Y -= 0.2  # AND also it can come with (-=0.2) this 0.2 can vary with 0.1,2,3 etc to measure\n",
        "                   # the velocity up and down in the Y cordenate\n",
        "  for event in pygame.event.get():\n",
        "    if event.type == pygame.QUIT:\n",
        "      running = False\n",
        "\n",
        "  #  in case the Kaystroke is pressed, check whether is RIGHT or LEFT\n",
        "    if event.type == pygame.KEYDOWN:\n",
        "      # print (\"Akeytroke is pressed\")\n",
        "      if event.type == pygame.K_LEFT:\n",
        "        Player2X_change = - 5\n",
        "        # print(\"Left arrow is pressed\")\n",
        "\n",
        "      if event.type == pygame.K_RIGHT:\n",
        "        Player2X_change = 5\n",
        "        # print(\"Right arrow is pressed\")\n",
        "\n",
        "      if event.type == pygame.K_SPACE:\n",
        "        if Bullet_state is \"ready\":\n",
        "          Bullet_sound = mixer.Sound (\"laser.wav\")\n",
        "          Bullet_sound.play()\n",
        "          BulletX = Player2X # here we repair the fact in which the bullet follow the space cordanate. so it is expected that the bullets will follow the previous shooting position!\n",
        "          fire_bullet(BulletX, BulletY)\n",
        "\n",
        "    if event.type == pygame. KEYUP:\n",
        "      if event.key == pygame.K_LEFT or  event.type == pygame.K_RIGHT:\n",
        "        Player2X_change = 0\n",
        "        # print(\"Keystroke has been released\")\n",
        "\n",
        "\n",
        "# creating boundaries for the spaceship\n",
        "  Player2X += Player2X_change\n",
        "\n",
        "  if Player2X <=0:\n",
        "    Player2X = 0\n",
        "  elif Player2X >=736:\n",
        "    Player2X = 736\n",
        "\n",
        "# Creating movements/Boundaries for the Enemy\n",
        "for i in range (Num_of_Enimies):\n",
        "\n",
        "  # GAME OVER STATEMENT\n",
        "  if EnemyY[i] > 200:\n",
        "    for j in range (Num_of_Enimies):\n",
        "      EnemyY[j] = 2000\n",
        "    Game_Over_Text\n",
        "    break\n",
        "\n",
        "  EnemyX[i] += EnemyX_change[i]\n",
        "\n",
        "  if EnemyX [i]<=0:\n",
        "    EnemyX_change [i] = 4\n",
        "    EnemyY [i] += EnemyY_change [i]\n",
        "  elif EnemyX [i] >=736:\n",
        "    EnemyX_change [i] = -5\n",
        "    EnemyY [i] += EnemyY_change [i]\n",
        "\n",
        "\n",
        "# collision\n",
        "  Collision = isCollision(EnemyX[i], EnemyY[i], BulletX, BulletY)\n",
        "  if Collision:\n",
        "    explosion_Sound = mixer.Sound(\"explosion.wav\")\n",
        "    explosion_Sound.play()\n",
        "    BulletY = 480\n",
        "    Bullet_state = \"ready\"\n",
        "    Score_value += 1\n",
        "    print(Score_value)\n",
        "    EnemyX[i] = random.randit(0, 800)\n",
        "    EnemyY[i] = random.randit(50,150)\n",
        "\n",
        "  Enemy (EnemyX[i], EnemyY[i], i)\n",
        "\n",
        "  # Bullets Moving\n",
        "  if BulletY <= 0:\n",
        "     BulletY = 480\n",
        "     Bullet_state = \"ready\" # in this code we are searching that the bullet will be shootting multiple times continuosly\n",
        "\n",
        "  if Bullet_state is \"fire\":\n",
        "    fire_bullet(BulletX, BulletY)\n",
        "    BulletY -= BulletY_change\n",
        "\n",
        "# Draw the plater and Enemy\n",
        "  player(Player2X, Player2Y)\n",
        "  show_score(textX, textY)\n",
        "\n",
        "  # display updates\n",
        "  pygame.display.update()"
      ]
    },
    {
      "cell_type": "code",
      "source": [],
      "metadata": {
        "id": "ZoHxTZg5kltD"
      },
      "execution_count": null,
      "outputs": []
    },
    {
      "cell_type": "code",
      "source": [],
      "metadata": {
        "id": "-E6xYUy9bnsD"
      },
      "execution_count": null,
      "outputs": []
    },
    {
      "cell_type": "code",
      "execution_count": null,
      "metadata": {
        "id": "pm0LyoNkegiD"
      },
      "outputs": [],
      "source": []
    },
    {
      "cell_type": "code",
      "execution_count": null,
      "metadata": {
        "id": "QpOT_RRjfLht"
      },
      "outputs": [],
      "source": []
    }
  ],
  "metadata": {
    "colab": {
      "provenance": [],
      "include_colab_link": true
    },
    "kernelspec": {
      "display_name": "Python 3",
      "name": "python3"
    },
    "language_info": {
      "name": "python"
    }
  },
  "nbformat": 4,
  "nbformat_minor": 0
}